{
 "cells": [
  {
   "cell_type": "code",
   "execution_count": 1,
   "metadata": {},
   "outputs": [
    {
     "name": "stdout",
     "output_type": "stream",
     "text": [
      "['Top Goal Scorers', 'Pos', 'Name', 'Total', '1 ', 'J. Vardy', '17', '2 ', 'M. Rashford', '14', '2 ', 'D. Ings', '14', '2 ', 'P. Aubameyang', '14', '5 ', 'T. Abraham', '13', '6 ', 'S. Mané', '11', '6 ', 'H. Kane', '11', '6 ', 'R. Sterling', '11', '9 ', 'M. Salah', '10', '9 ', 'S. Agüero', '10', 'More Stats']\n"
     ]
    }
   ],
   "source": [
    "#For Total goals scored\n",
    "\n",
    "from bs4 import BeautifulSoup\n",
    "import requests\n",
    "import pandas as pd\n",
    "import numpy as np\n",
    "pd.set_option(\"display.max_rows\",1000)\n",
    "url = \"https://scores.nbcsports.com/epl/player_leaders.asp\" #url\n",
    "response = requests.get(url)\n",
    "soup = BeautifulSoup(response.text,'html.parser')\n",
    "\n",
    "\n",
    "############\n",
    "#find all tables with same class\n",
    "############\n",
    "\n",
    "alltables = []\n",
    "for my_tag in soup.find_all(class_=\"shsTable shsBorderTable\"):\n",
    "    alltables.append(str(my_tag).split('</table>')) \n",
    "\n",
    "firsttable = []    \n",
    "for i in alltables[0]:\n",
    "    firsttable.append(i)\n",
    "    \n",
    "\n",
    "table1 = BeautifulSoup(firsttable[0], 'html.parser')\n",
    "\n",
    "#############\n",
    "#Extract all tables \n",
    "#############\n",
    "rowcell = []#all rows\n",
    "for row in table1.find_all('tr'):\n",
    "    for cell in table1.find_all('td'):\n",
    "        c = cell.text.replace('\\n','')\n",
    "        rowcell.append(c)\n",
    "    break\n",
    "\n",
    "print(rowcell)"
   ]
  },
  {
   "cell_type": "code",
   "execution_count": null,
   "metadata": {},
   "outputs": [],
   "source": []
  }
 ],
 "metadata": {
  "kernelspec": {
   "display_name": "Python 3",
   "language": "python",
   "name": "python3"
  },
  "language_info": {
   "codemirror_mode": {
    "name": "ipython",
    "version": 3
   },
   "file_extension": ".py",
   "mimetype": "text/x-python",
   "name": "python",
   "nbconvert_exporter": "python",
   "pygments_lexer": "ipython3",
   "version": "3.7.4"
  }
 },
 "nbformat": 4,
 "nbformat_minor": 2
}
