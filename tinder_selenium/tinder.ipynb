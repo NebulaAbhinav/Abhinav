{
 "cells": [
  {
   "cell_type": "code",
   "execution_count": 47,
   "metadata": {},
   "outputs": [
    {
     "name": "stderr",
     "output_type": "stream",
     "text": [
      "c:\\users\\52134284\\appdata\\local\\programs\\python\\python37\\lib\\site-packages\\ipykernel_launcher.py:2: DeprecationWarning: use driver.switch_to.window instead\n",
      "  \n"
     ]
    }
   ],
   "source": [
    "from selenium import webdriver\n",
    "from time import sleep\n",
    "global driver\n",
    "driver = webdriver.Chrome()\n",
    "driver.get('https://www.hostinger.com/b?utm_expid=.hVM0BsTuRbSCy1_TbHyaSg.1&utm_referrer=')\n",
    "sleep(5)\n",
    "#Write this under sleep(2)\n",
    "close_popup_button = driver.find_element_by_xpath('//*[@id=\"navigation2\"]/div/div/div[2]/a[1]')\n",
    "close_popup_button.click()\n",
    "sleep(10)\n",
    "login_button = driver.find_element_by_xpath('//*[@id=\"user-login-form\"]/span/div[1]/p[3]')\n",
    "login_button.click()\n",
    "        \n",
    "email_in = driver.find_element_by_xpath('//*[@id=\"identifierId\"]')\n",
    "email_in.send_keys(\"your_email_id \")\n",
    "login_button = driver.find_element_by_xpath('//*[@id=\"identifierNext\"]/span')\n",
    "login_button.click()\n",
    "sleep(5)\n",
    "pw_in = driver.find_element_by_xpath('//*[@id=\"password\"]/div[1]/div/div[1]/input')\n",
    "pw_in.send_keys(\"ur_password\")\n",
    "login_button = driver.find_element_by_xpath('//*[@id=\"passwordNext\"]/span')\n",
    "login_button.click()\n",
    "sleep(10)\n",
    "driver.get('https://hpanel.hostinger.com/')\n",
    "sleep(5)\n",
    "\n",
    "\n",
    "\n",
    "driver.get('https://hpanel.hostinger.com/')\n",
    "sleep(5)\n",
    "bounty = driver.find_element_by_xpath('//*[@id=\"app\"]/div[1]/div/div/div/div/div/div/div[3]/div[2]/div[1]/div[2]/div/a')\n",
    "bounty.click()\n",
    "sleep(10)\n",
    "\n",
    "wordpress = driver.find_element_by_xpath('//*[@id=\"hgr-hpanel-hosting-section-wordPress_wordpress\"]/div')\n",
    "wordpress.click()\n",
    "\n",
    "base_window = driver.window_handles[0]\n",
    "driver.switch_to_window(driver.window_handles[1])\n",
    "email_in = driver.find_element_by_xpath('/html/body/div[1]/form/p[1]/input')\n",
    "email_in.send_keys(\"abhinavthakur133029@gmail.com\")\n",
    "pw_in = driver.find_element_by_xpath('//*[@id=\"user_pass\"]')\n",
    "pw_in.send_keys(\"123456789abhi\")\n",
    "login_button = driver.find_element_by_xpath('//*[@id=\"wp-submit\"]')\n",
    "login_button.click()\n",
    "sleep(10)\n",
    "pages = driver.find_element_by_xpath('//*[@id=\"menu-pages\"]/a/div[3]')\n",
    "pages.click()"
   ]
  },
  {
   "cell_type": "code",
   "execution_count": 71,
   "metadata": {},
   "outputs": [],
   "source": [
    "#championsleague\n",
    "driver.find_element_by_css_selector(\"#post-523 > td.title.column-title.has-row-actions.column-primary.page-title > strong > a\").click()\n",
    "edit = driver.find_element_by_xpath('/html/body/div[1]/div[2]/div[2]/div[1]/div[3]/div[1]/div/div/div/div[2]/div[4]/div/div/div[1]/div/div/div[2]/div[1]/div[3]/div/div/div/p')\n",
    "edit.send_keys(\"abhi2830609@yahoo.co.in\")\n",
    "sleep(5)\n",
    "update = driver.find_element_by_xpath('//*[@id=\"editor\"]/div/div/div/div[1]/div[2]/div[1]/button')\n",
    "update.click()\n",
    "sleep(5)\n",
    "pages = driver.find_element_by_xpath('//*[@id=\"menu-pages\"]/ul/li[2]/a')\n",
    "pages.click()\n",
    "sleep(5)\n",
    "\n",
    "#europaleague\n",
    "driver.find_element_by_css_selector(\"#post-525 > td.title.column-title.has-row-actions.column-primary.page-title > strong > a\").click()\n",
    "edit = driver.find_element_by_xpath('/html/body/div[1]/div[2]/div[2]/div[1]/div[3]/div[1]/div/div/div/div[2]/div[4]/div/div/div[1]/div/div/div[2]/div[1]/div[3]/div/div/div/p')\n",
    "edit.send_keys(\"abhi2830609@yahoo.co.in\")\n",
    "sleep(5)\n",
    "update = driver.find_element_by_xpath('//*[@id=\"editor\"]/div/div/div/div[1]/div[2]/div[1]/button')\n",
    "update.click()\n",
    "sleep(5)\n",
    "pages = driver.find_element_by_xpath('//*[@id=\"menu-pages\"]/ul/li[2]/a')\n",
    "pages.click()\n",
    "\n",
    "#europaleague\n",
    "driver.find_element_by_css_selector(\"##post-168 > td.title.column-title.has-row-actions.column-primary.page-title > strong > a\").click()\n",
    "edit = driver.find_element_by_xpath('/html/body/div[1]/div[2]/div[2]/div[1]/div[3]/div[1]/div/div/div/div[2]/div[4]/div/div/div[1]/div/div/div[2]/div[1]/div[3]/div/div/div/p')\n",
    "edit.send_keys(\"abhi2830609@yahoo.co.in\")\n",
    "sleep(5)\n",
    "update = driver.find_element_by_xpath('//*[@id=\"editor\"]/div/div/div/div[1]/div[2]/div[1]/button')\n",
    "update.click()\n",
    "sleep(5)\n",
    "pages = driver.find_element_by_xpath('//*[@id=\"menu-pages\"]/ul/li[2]/a')\n",
    "pages.click()"
   ]
  },
  {
   "cell_type": "code",
   "execution_count": 70,
   "metadata": {},
   "outputs": [],
   "source": [
    "\n"
   ]
  },
  {
   "cell_type": "code",
   "execution_count": null,
   "metadata": {},
   "outputs": [],
   "source": []
  }
 ],
 "metadata": {
  "kernelspec": {
   "display_name": "Python 3",
   "language": "python",
   "name": "python3"
  },
  "language_info": {
   "codemirror_mode": {
    "name": "ipython",
    "version": 3
   },
   "file_extension": ".py",
   "mimetype": "text/x-python",
   "name": "python",
   "nbconvert_exporter": "python",
   "pygments_lexer": "ipython3",
   "version": "3.7.4"
  }
 },
 "nbformat": 4,
 "nbformat_minor": 2
}
