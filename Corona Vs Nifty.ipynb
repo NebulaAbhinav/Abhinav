{
 "cells": [
  {
   "cell_type": "code",
   "execution_count": 292,
   "metadata": {},
   "outputs": [],
   "source": [
    "import pandas as pd\n",
    "import numpy as np \n",
    "import matplotlib.pyplot as plt \n",
    "import pandas as pd\n",
    "from sklearn.tree import DecisionTreeClassifier # Import Decision Tree Classifier\n",
    "from sklearn.model_selection import train_test_split # Import train_test_split function\n",
    "from sklearn import metrics #Import scikit-learn metrics module for accuracy calculation\n",
    "\n",
    "data1 = pd.read_csv(\"corona.csv\",encoding = \"cp1252\")\n"
   ]
  },
  {
   "cell_type": "code",
   "execution_count": 293,
   "metadata": {},
   "outputs": [
    {
     "name": "stdout",
     "output_type": "stream",
     "text": [
      "[50355]\n"
     ]
    }
   ],
   "source": [
    "data_india = data1[data1[\"Country\"]==\"India\"]\n",
    "\n",
    "print(index1)\n"
   ]
  },
  {
   "cell_type": "code",
   "execution_count": 294,
   "metadata": {},
   "outputs": [
    {
     "data": {
      "text/plain": [
       "Date_reported        object\n",
       "Country_code         object\n",
       "Country              object\n",
       "WHO_region           object\n",
       "New_cases             int64\n",
       "Cumulative_cases      int64\n",
       "New_deaths            int64\n",
       "Cumulative_deaths     int64\n",
       "dtype: object"
      ]
     },
     "execution_count": 294,
     "metadata": {},
     "output_type": "execute_result"
    }
   ],
   "source": [
    "data_india.dtypes"
   ]
  },
  {
   "cell_type": "code",
   "execution_count": 295,
   "metadata": {},
   "outputs": [
    {
     "data": {
      "text/html": [
       "<div>\n",
       "<style scoped>\n",
       "    .dataframe tbody tr th:only-of-type {\n",
       "        vertical-align: middle;\n",
       "    }\n",
       "\n",
       "    .dataframe tbody tr th {\n",
       "        vertical-align: top;\n",
       "    }\n",
       "\n",
       "    .dataframe thead th {\n",
       "        text-align: right;\n",
       "    }\n",
       "</style>\n",
       "<table border=\"1\" class=\"dataframe\">\n",
       "  <thead>\n",
       "    <tr style=\"text-align: right;\">\n",
       "      <th></th>\n",
       "      <th>Date_reported</th>\n",
       "      <th>Country_code</th>\n",
       "      <th>Country</th>\n",
       "      <th>WHO_region</th>\n",
       "      <th>New_cases</th>\n",
       "      <th>Cumulative_cases</th>\n",
       "      <th>New_deaths</th>\n",
       "      <th>Cumulative_deaths</th>\n",
       "    </tr>\n",
       "  </thead>\n",
       "  <tbody>\n",
       "    <tr>\n",
       "      <td>49920</td>\n",
       "      <td>1/3/2020</td>\n",
       "      <td>IN</td>\n",
       "      <td>India</td>\n",
       "      <td>SEARO</td>\n",
       "      <td>0</td>\n",
       "      <td>0</td>\n",
       "      <td>0</td>\n",
       "      <td>0</td>\n",
       "    </tr>\n",
       "    <tr>\n",
       "      <td>49921</td>\n",
       "      <td>1/4/2020</td>\n",
       "      <td>IN</td>\n",
       "      <td>India</td>\n",
       "      <td>SEARO</td>\n",
       "      <td>0</td>\n",
       "      <td>0</td>\n",
       "      <td>0</td>\n",
       "      <td>0</td>\n",
       "    </tr>\n",
       "    <tr>\n",
       "      <td>49922</td>\n",
       "      <td>1/5/2020</td>\n",
       "      <td>IN</td>\n",
       "      <td>India</td>\n",
       "      <td>SEARO</td>\n",
       "      <td>0</td>\n",
       "      <td>0</td>\n",
       "      <td>0</td>\n",
       "      <td>0</td>\n",
       "    </tr>\n",
       "    <tr>\n",
       "      <td>49923</td>\n",
       "      <td>1/6/2020</td>\n",
       "      <td>IN</td>\n",
       "      <td>India</td>\n",
       "      <td>SEARO</td>\n",
       "      <td>0</td>\n",
       "      <td>0</td>\n",
       "      <td>0</td>\n",
       "      <td>0</td>\n",
       "    </tr>\n",
       "    <tr>\n",
       "      <td>49924</td>\n",
       "      <td>1/7/2020</td>\n",
       "      <td>IN</td>\n",
       "      <td>India</td>\n",
       "      <td>SEARO</td>\n",
       "      <td>0</td>\n",
       "      <td>0</td>\n",
       "      <td>0</td>\n",
       "      <td>0</td>\n",
       "    </tr>\n",
       "    <tr>\n",
       "      <td>...</td>\n",
       "      <td>...</td>\n",
       "      <td>...</td>\n",
       "      <td>...</td>\n",
       "      <td>...</td>\n",
       "      <td>...</td>\n",
       "      <td>...</td>\n",
       "      <td>...</td>\n",
       "      <td>...</td>\n",
       "    </tr>\n",
       "    <tr>\n",
       "      <td>50435</td>\n",
       "      <td>6/1/2021</td>\n",
       "      <td>IN</td>\n",
       "      <td>India</td>\n",
       "      <td>SEARO</td>\n",
       "      <td>127510</td>\n",
       "      <td>28175044</td>\n",
       "      <td>2795</td>\n",
       "      <td>331895</td>\n",
       "    </tr>\n",
       "    <tr>\n",
       "      <td>50436</td>\n",
       "      <td>6/2/2021</td>\n",
       "      <td>IN</td>\n",
       "      <td>India</td>\n",
       "      <td>SEARO</td>\n",
       "      <td>132788</td>\n",
       "      <td>28307832</td>\n",
       "      <td>3207</td>\n",
       "      <td>335102</td>\n",
       "    </tr>\n",
       "    <tr>\n",
       "      <td>50437</td>\n",
       "      <td>6/3/2021</td>\n",
       "      <td>IN</td>\n",
       "      <td>India</td>\n",
       "      <td>SEARO</td>\n",
       "      <td>134154</td>\n",
       "      <td>28441986</td>\n",
       "      <td>2887</td>\n",
       "      <td>337989</td>\n",
       "    </tr>\n",
       "    <tr>\n",
       "      <td>50438</td>\n",
       "      <td>6/4/2021</td>\n",
       "      <td>IN</td>\n",
       "      <td>India</td>\n",
       "      <td>SEARO</td>\n",
       "      <td>132364</td>\n",
       "      <td>28574350</td>\n",
       "      <td>2713</td>\n",
       "      <td>340702</td>\n",
       "    </tr>\n",
       "    <tr>\n",
       "      <td>50439</td>\n",
       "      <td>6/5/2021</td>\n",
       "      <td>IN</td>\n",
       "      <td>India</td>\n",
       "      <td>SEARO</td>\n",
       "      <td>120529</td>\n",
       "      <td>28694879</td>\n",
       "      <td>3380</td>\n",
       "      <td>344082</td>\n",
       "    </tr>\n",
       "  </tbody>\n",
       "</table>\n",
       "<p>520 rows × 8 columns</p>\n",
       "</div>"
      ],
      "text/plain": [
       "      Date_reported Country_code Country WHO_region  New_cases  \\\n",
       "49920      1/3/2020           IN   India      SEARO          0   \n",
       "49921      1/4/2020           IN   India      SEARO          0   \n",
       "49922      1/5/2020           IN   India      SEARO          0   \n",
       "49923      1/6/2020           IN   India      SEARO          0   \n",
       "49924      1/7/2020           IN   India      SEARO          0   \n",
       "...             ...          ...     ...        ...        ...   \n",
       "50435      6/1/2021           IN   India      SEARO     127510   \n",
       "50436      6/2/2021           IN   India      SEARO     132788   \n",
       "50437      6/3/2021           IN   India      SEARO     134154   \n",
       "50438      6/4/2021           IN   India      SEARO     132364   \n",
       "50439      6/5/2021           IN   India      SEARO     120529   \n",
       "\n",
       "       Cumulative_cases  New_deaths  Cumulative_deaths  \n",
       "49920                 0           0                  0  \n",
       "49921                 0           0                  0  \n",
       "49922                 0           0                  0  \n",
       "49923                 0           0                  0  \n",
       "49924                 0           0                  0  \n",
       "...                 ...         ...                ...  \n",
       "50435          28175044        2795             331895  \n",
       "50436          28307832        3207             335102  \n",
       "50437          28441986        2887             337989  \n",
       "50438          28574350        2713             340702  \n",
       "50439          28694879        3380             344082  \n",
       "\n",
       "[520 rows x 8 columns]"
      ]
     },
     "execution_count": 295,
     "metadata": {},
     "output_type": "execute_result"
    }
   ],
   "source": [
    "data_india"
   ]
  },
  {
   "cell_type": "code",
   "execution_count": 296,
   "metadata": {},
   "outputs": [
    {
     "data": {
      "image/png": "[encoded data removed]",
      "text/plain": [
       "<Figure size 432x288 with 1 Axes>"
      ]
     },
     "metadata": {
      "needs_background": "light"
     },
     "output_type": "display_data"
    }
   ],
   "source": [
    "Ndate = data_india[\"Date_reported\"]\n",
    "New_cases = data_india[\"New_cases\"]\n",
    "New_deaths = data_india[\"New_deaths\"]\n",
    "\n",
    "\n",
    "# New Cases\n",
    "plt.plot(Ndate, New_cases, color ='r', label = \"New Cases\")\n",
    "# Naming the x-axis, y-axis and the whole graph\n",
    "plt.xlabel(\"Date\")\n",
    "plt.ylabel(\"New Cases\")\n",
    "plt.title(\"New Cases\")\n",
    "\n",
    "plt.show()\n"
   ]
  },
  {
   "cell_type": "code",
   "execution_count": 297,
   "metadata": {},
   "outputs": [
    {
     "data": {
      "image/png": "[encoded data removed]",
      "text/plain": [
       "<Figure size 432x288 with 1 Axes>"
      ]
     },
     "metadata": {
      "needs_background": "light"
     },
     "output_type": "display_data"
    }
   ],
   "source": [
    "# New Deaths \n",
    "\n",
    "plt.plot(Ndate,New_deaths,label = \"New Deaths\")\n",
    "plt.xlabel(\"Date\")\n",
    "plt.ylabel(\"New Deaths\")\n",
    "plt.title(\"New Deaths\")\n",
    "\n",
    "plt.show()\n"
   ]
  },
  {
   "cell_type": "code",
   "execution_count": 298,
   "metadata": {},
   "outputs": [
    {
     "name": "stdout",
     "output_type": "stream",
     "text": [
      "                   New_cases  Cumulative_cases  New_deaths  Cumulative_deaths\n",
      "New_cases           1.000000          0.712569    0.912011           0.639002\n",
      "Cumulative_cases    0.712569          1.000000    0.739232           0.987448\n",
      "New_deaths          0.912011          0.739232    1.000000           0.662914\n",
      "Cumulative_deaths   0.639002          0.987448    0.662914           1.000000\n"
     ]
    }
   ],
   "source": [
    "corrMatrix = data_india.corr()\n",
    "print (corrMatrix)\n",
    "\n",
    "#Correlation between New Cases and Deaths  = 0.91 Which means New cases and Deaths are proportional to each other. \n"
   ]
  },
  {
   "cell_type": "code",
   "execution_count": 299,
   "metadata": {},
   "outputs": [],
   "source": [
    "# Calculating the number of deaths with relation to New Cases \n",
    "X = data_india[['New_cases']]\n",
    "y = data_india[['New_deaths']]\n",
    "\n",
    "from sklearn.model_selection import train_test_split\n",
    "X_train, X_test, y_train, y_test = train_test_split(X, y, test_size = 1/3, random_state = 0)\n"
   ]
  },
  {
   "cell_type": "code",
   "execution_count": 300,
   "metadata": {},
   "outputs": [
    {
     "data": {
      "text/plain": [
       "LinearRegression(copy_X=True, fit_intercept=True, n_jobs=None, normalize=False)"
      ]
     },
     "execution_count": 300,
     "metadata": {},
     "output_type": "execute_result"
    }
   ],
   "source": [
    "# Fitting Simple Linear Regression to the Training set\n",
    "from sklearn.linear_model import LinearRegression\n",
    "regressor = LinearRegression()\n",
    "regressor.fit(X_train, y_train)"
   ]
  },
  {
   "cell_type": "code",
   "execution_count": 301,
   "metadata": {},
   "outputs": [
    {
     "name": "stdout",
     "output_type": "stream",
     "text": [
      "Value of coefficients (x) :  0.010377284557988307\n",
      "Value of Intercept(c) :  98.50091441924906\n"
     ]
    }
   ],
   "source": [
    "# Predicting the Test set results (y = mx +c)\n",
    "y_pred = regressor.predict(X_test)\n",
    "print(\"Value of coefficients (x) : \",regressor.coef_[0][0])\n",
    "print(\"Value of Intercept(c) : \",regressor.intercept_[0])"
   ]
  },
  {
   "cell_type": "code",
   "execution_count": 302,
   "metadata": {},
   "outputs": [
    {
     "name": "stdout",
     "output_type": "stream",
     "text": [
      "Accuracy Score By Linear Regression :  83.16718373092525 %\n"
     ]
    }
   ],
   "source": [
    "# Score  (r square -  Accuracy)- \n",
    "print(\"Accuracy Score By Linear Regression : \",regressor.score(X, y) * 100, \"%\")"
   ]
  },
  {
   "cell_type": "code",
   "execution_count": 303,
   "metadata": {},
   "outputs": [
    {
     "name": "stdout",
     "output_type": "stream",
     "text": [
      "520\n",
      "520\n"
     ]
    }
   ],
   "source": [
    "y_pred_new = regressor.predict(X)\n"
   ]
  },
  {
   "cell_type": "code",
   "execution_count": 304,
   "metadata": {},
   "outputs": [
    {
     "data": {
      "image/png": "[encoded data removed]",
      "text/plain": [
       "<Figure size 432x288 with 1 Axes>"
      ]
     },
     "metadata": {
      "needs_background": "light"
     },
     "output_type": "display_data"
    }
   ],
   "source": [
    "date_mat = []\n",
    "for i in range(len(y)):\n",
    "    date_mat.append(i)\n",
    "    \n",
    "Ndate = date_mat\n",
    "Org_Deaths = y\n",
    "New_deaths = y_pred_new\n",
    "\n",
    "\n",
    "# New Cases\n",
    "plt.plot(Ndate, Org_Deaths, color='r',label= \"Original Deaths\")\n",
    "plt.plot(Ndate, New_deaths, color='g', label='Calculated Deaths')\n",
    "  \n",
    "# Naming the x-axis, y-axis and the whole graph\n",
    "plt.ylabel(\"Original V/s Calculated Deaths\")\n",
    "plt.xlabel(\"Date\")\n",
    "plt.title(\"Original V/s Calculated Deaths\")\n",
    "  \n",
    "# Adding legend, which helps us recognize the curve according to it's color\n",
    "plt.legend()\n",
    "  \n",
    "# To load the display window\n",
    "plt.show()\n"
   ]
  },
  {
   "cell_type": "code",
   "execution_count": 305,
   "metadata": {},
   "outputs": [],
   "source": [
    "###########################################################################################################################"
   ]
  },
  {
   "cell_type": "code",
   "execution_count": 306,
   "metadata": {},
   "outputs": [
    {
     "data": {
      "text/html": [
       "<div>\n",
       "<style scoped>\n",
       "    .dataframe tbody tr th:only-of-type {\n",
       "        vertical-align: middle;\n",
       "    }\n",
       "\n",
       "    .dataframe tbody tr th {\n",
       "        vertical-align: top;\n",
       "    }\n",
       "\n",
       "    .dataframe thead th {\n",
       "        text-align: right;\n",
       "    }\n",
       "</style>\n",
       "<table border=\"1\" class=\"dataframe\">\n",
       "  <thead>\n",
       "    <tr style=\"text-align: right;\">\n",
       "      <th></th>\n",
       "      <th>Date</th>\n",
       "      <th>Open</th>\n",
       "      <th>High</th>\n",
       "      <th>Low</th>\n",
       "      <th>Close</th>\n",
       "      <th>Adj Close</th>\n",
       "      <th>Volume</th>\n",
       "    </tr>\n",
       "  </thead>\n",
       "  <tbody>\n",
       "    <tr>\n",
       "      <td>0</td>\n",
       "      <td>3/1/2019</td>\n",
       "      <td>10842.65039</td>\n",
       "      <td>10877.90039</td>\n",
       "      <td>10823.09961</td>\n",
       "      <td>10863.50000</td>\n",
       "      <td>10863.50000</td>\n",
       "      <td>308500.0</td>\n",
       "    </tr>\n",
       "    <tr>\n",
       "      <td>1</td>\n",
       "      <td>3/5/2019</td>\n",
       "      <td>10864.84961</td>\n",
       "      <td>10994.90039</td>\n",
       "      <td>10817.00000</td>\n",
       "      <td>10987.45020</td>\n",
       "      <td>10987.45020</td>\n",
       "      <td>373200.0</td>\n",
       "    </tr>\n",
       "    <tr>\n",
       "      <td>2</td>\n",
       "      <td>3/6/2019</td>\n",
       "      <td>11024.84961</td>\n",
       "      <td>11062.29981</td>\n",
       "      <td>10998.84961</td>\n",
       "      <td>11053.00000</td>\n",
       "      <td>11053.00000</td>\n",
       "      <td>372600.0</td>\n",
       "    </tr>\n",
       "    <tr>\n",
       "      <td>3</td>\n",
       "      <td>3/7/2019</td>\n",
       "      <td>11077.95020</td>\n",
       "      <td>11089.04981</td>\n",
       "      <td>11027.09961</td>\n",
       "      <td>11058.20020</td>\n",
       "      <td>11058.20020</td>\n",
       "      <td>321200.0</td>\n",
       "    </tr>\n",
       "    <tr>\n",
       "      <td>4</td>\n",
       "      <td>3/8/2019</td>\n",
       "      <td>11038.84961</td>\n",
       "      <td>11049.00000</td>\n",
       "      <td>11008.95020</td>\n",
       "      <td>11035.40039</td>\n",
       "      <td>11035.40039</td>\n",
       "      <td>326600.0</td>\n",
       "    </tr>\n",
       "    <tr>\n",
       "      <td>...</td>\n",
       "      <td>...</td>\n",
       "      <td>...</td>\n",
       "      <td>...</td>\n",
       "      <td>...</td>\n",
       "      <td>...</td>\n",
       "      <td>...</td>\n",
       "      <td>...</td>\n",
       "    </tr>\n",
       "    <tr>\n",
       "      <td>546</td>\n",
       "      <td>5/24/2021</td>\n",
       "      <td>15211.34961</td>\n",
       "      <td>15256.25000</td>\n",
       "      <td>15145.45020</td>\n",
       "      <td>15197.70020</td>\n",
       "      <td>15197.70020</td>\n",
       "      <td>579800.0</td>\n",
       "    </tr>\n",
       "    <tr>\n",
       "      <td>547</td>\n",
       "      <td>5/25/2021</td>\n",
       "      <td>15291.75000</td>\n",
       "      <td>15293.84961</td>\n",
       "      <td>15163.40039</td>\n",
       "      <td>15208.45020</td>\n",
       "      <td>15208.45020</td>\n",
       "      <td>441500.0</td>\n",
       "    </tr>\n",
       "    <tr>\n",
       "      <td>548</td>\n",
       "      <td>5/26/2021</td>\n",
       "      <td>15257.04981</td>\n",
       "      <td>15319.90039</td>\n",
       "      <td>15194.95020</td>\n",
       "      <td>15301.45020</td>\n",
       "      <td>15301.45020</td>\n",
       "      <td>384000.0</td>\n",
       "    </tr>\n",
       "    <tr>\n",
       "      <td>549</td>\n",
       "      <td>5/27/2021</td>\n",
       "      <td>15323.95020</td>\n",
       "      <td>15384.54981</td>\n",
       "      <td>15272.50000</td>\n",
       "      <td>15337.84961</td>\n",
       "      <td>15337.84961</td>\n",
       "      <td>0.0</td>\n",
       "    </tr>\n",
       "    <tr>\n",
       "      <td>550</td>\n",
       "      <td>5/28/2021</td>\n",
       "      <td>15421.20020</td>\n",
       "      <td>15469.65039</td>\n",
       "      <td>15394.75000</td>\n",
       "      <td>15435.65039</td>\n",
       "      <td>15435.65039</td>\n",
       "      <td>468100.0</td>\n",
       "    </tr>\n",
       "  </tbody>\n",
       "</table>\n",
       "<p>551 rows × 7 columns</p>\n",
       "</div>"
      ],
      "text/plain": [
       "          Date         Open         High          Low        Close  \\\n",
       "0     3/1/2019  10842.65039  10877.90039  10823.09961  10863.50000   \n",
       "1     3/5/2019  10864.84961  10994.90039  10817.00000  10987.45020   \n",
       "2     3/6/2019  11024.84961  11062.29981  10998.84961  11053.00000   \n",
       "3     3/7/2019  11077.95020  11089.04981  11027.09961  11058.20020   \n",
       "4     3/8/2019  11038.84961  11049.00000  11008.95020  11035.40039   \n",
       "..         ...          ...          ...          ...          ...   \n",
       "546  5/24/2021  15211.34961  15256.25000  15145.45020  15197.70020   \n",
       "547  5/25/2021  15291.75000  15293.84961  15163.40039  15208.45020   \n",
       "548  5/26/2021  15257.04981  15319.90039  15194.95020  15301.45020   \n",
       "549  5/27/2021  15323.95020  15384.54981  15272.50000  15337.84961   \n",
       "550  5/28/2021  15421.20020  15469.65039  15394.75000  15435.65039   \n",
       "\n",
       "       Adj Close    Volume  \n",
       "0    10863.50000  308500.0  \n",
       "1    10987.45020  373200.0  \n",
       "2    11053.00000  372600.0  \n",
       "3    11058.20020  321200.0  \n",
       "4    11035.40039  326600.0  \n",
       "..           ...       ...  \n",
       "546  15197.70020  579800.0  \n",
       "547  15208.45020  441500.0  \n",
       "548  15301.45020  384000.0  \n",
       "549  15337.84961       0.0  \n",
       "550  15435.65039  468100.0  \n",
       "\n",
       "[551 rows x 7 columns]"
      ]
     },
     "execution_count": 306,
     "metadata": {},
     "output_type": "execute_result"
    }
   ],
   "source": [
    "# NIFTY DATA \n",
    "\n",
    "nifty_data = pd.read_csv(\"nifty.csv\",encoding = \"cp1252\")\n",
    "nifty_data\n"
   ]
  },
  {
   "cell_type": "code",
   "execution_count": 307,
   "metadata": {},
   "outputs": [
    {
     "data": {
      "text/html": [
       "<div>\n",
       "<style scoped>\n",
       "    .dataframe tbody tr th:only-of-type {\n",
       "        vertical-align: middle;\n",
       "    }\n",
       "\n",
       "    .dataframe tbody tr th {\n",
       "        vertical-align: top;\n",
       "    }\n",
       "\n",
       "    .dataframe thead th {\n",
       "        text-align: right;\n",
       "    }\n",
       "</style>\n",
       "<table border=\"1\" class=\"dataframe\">\n",
       "  <thead>\n",
       "    <tr style=\"text-align: right;\">\n",
       "      <th></th>\n",
       "      <th>Date</th>\n",
       "      <th>Open</th>\n",
       "      <th>High</th>\n",
       "      <th>Low</th>\n",
       "      <th>Close</th>\n",
       "      <th>Adj Close</th>\n",
       "      <th>Volume</th>\n",
       "    </tr>\n",
       "  </thead>\n",
       "  <tbody>\n",
       "    <tr>\n",
       "      <td>0</td>\n",
       "      <td>3/1/2019</td>\n",
       "      <td>10842.65039</td>\n",
       "      <td>10877.90039</td>\n",
       "      <td>10823.09961</td>\n",
       "      <td>10863.50000</td>\n",
       "      <td>10863.50000</td>\n",
       "      <td>308500.0</td>\n",
       "    </tr>\n",
       "    <tr>\n",
       "      <td>1</td>\n",
       "      <td>3/5/2019</td>\n",
       "      <td>10864.84961</td>\n",
       "      <td>10994.90039</td>\n",
       "      <td>10817.00000</td>\n",
       "      <td>10987.45020</td>\n",
       "      <td>10987.45020</td>\n",
       "      <td>373200.0</td>\n",
       "    </tr>\n",
       "    <tr>\n",
       "      <td>2</td>\n",
       "      <td>3/6/2019</td>\n",
       "      <td>11024.84961</td>\n",
       "      <td>11062.29981</td>\n",
       "      <td>10998.84961</td>\n",
       "      <td>11053.00000</td>\n",
       "      <td>11053.00000</td>\n",
       "      <td>372600.0</td>\n",
       "    </tr>\n",
       "    <tr>\n",
       "      <td>3</td>\n",
       "      <td>3/7/2019</td>\n",
       "      <td>11077.95020</td>\n",
       "      <td>11089.04981</td>\n",
       "      <td>11027.09961</td>\n",
       "      <td>11058.20020</td>\n",
       "      <td>11058.20020</td>\n",
       "      <td>321200.0</td>\n",
       "    </tr>\n",
       "    <tr>\n",
       "      <td>4</td>\n",
       "      <td>3/8/2019</td>\n",
       "      <td>11038.84961</td>\n",
       "      <td>11049.00000</td>\n",
       "      <td>11008.95020</td>\n",
       "      <td>11035.40039</td>\n",
       "      <td>11035.40039</td>\n",
       "      <td>326600.0</td>\n",
       "    </tr>\n",
       "    <tr>\n",
       "      <td>...</td>\n",
       "      <td>...</td>\n",
       "      <td>...</td>\n",
       "      <td>...</td>\n",
       "      <td>...</td>\n",
       "      <td>...</td>\n",
       "      <td>...</td>\n",
       "      <td>...</td>\n",
       "    </tr>\n",
       "    <tr>\n",
       "      <td>546</td>\n",
       "      <td>5/24/2021</td>\n",
       "      <td>15211.34961</td>\n",
       "      <td>15256.25000</td>\n",
       "      <td>15145.45020</td>\n",
       "      <td>15197.70020</td>\n",
       "      <td>15197.70020</td>\n",
       "      <td>579800.0</td>\n",
       "    </tr>\n",
       "    <tr>\n",
       "      <td>547</td>\n",
       "      <td>5/25/2021</td>\n",
       "      <td>15291.75000</td>\n",
       "      <td>15293.84961</td>\n",
       "      <td>15163.40039</td>\n",
       "      <td>15208.45020</td>\n",
       "      <td>15208.45020</td>\n",
       "      <td>441500.0</td>\n",
       "    </tr>\n",
       "    <tr>\n",
       "      <td>548</td>\n",
       "      <td>5/26/2021</td>\n",
       "      <td>15257.04981</td>\n",
       "      <td>15319.90039</td>\n",
       "      <td>15194.95020</td>\n",
       "      <td>15301.45020</td>\n",
       "      <td>15301.45020</td>\n",
       "      <td>384000.0</td>\n",
       "    </tr>\n",
       "    <tr>\n",
       "      <td>549</td>\n",
       "      <td>5/27/2021</td>\n",
       "      <td>15323.95020</td>\n",
       "      <td>15384.54981</td>\n",
       "      <td>15272.50000</td>\n",
       "      <td>15337.84961</td>\n",
       "      <td>15337.84961</td>\n",
       "      <td>0.0</td>\n",
       "    </tr>\n",
       "    <tr>\n",
       "      <td>550</td>\n",
       "      <td>5/28/2021</td>\n",
       "      <td>15421.20020</td>\n",
       "      <td>15469.65039</td>\n",
       "      <td>15394.75000</td>\n",
       "      <td>15435.65039</td>\n",
       "      <td>15435.65039</td>\n",
       "      <td>468100.0</td>\n",
       "    </tr>\n",
       "  </tbody>\n",
       "</table>\n",
       "<p>551 rows × 7 columns</p>\n",
       "</div>"
      ],
      "text/plain": [
       "          Date         Open         High          Low        Close  \\\n",
       "0     3/1/2019  10842.65039  10877.90039  10823.09961  10863.50000   \n",
       "1     3/5/2019  10864.84961  10994.90039  10817.00000  10987.45020   \n",
       "2     3/6/2019  11024.84961  11062.29981  10998.84961  11053.00000   \n",
       "3     3/7/2019  11077.95020  11089.04981  11027.09961  11058.20020   \n",
       "4     3/8/2019  11038.84961  11049.00000  11008.95020  11035.40039   \n",
       "..         ...          ...          ...          ...          ...   \n",
       "546  5/24/2021  15211.34961  15256.25000  15145.45020  15197.70020   \n",
       "547  5/25/2021  15291.75000  15293.84961  15163.40039  15208.45020   \n",
       "548  5/26/2021  15257.04981  15319.90039  15194.95020  15301.45020   \n",
       "549  5/27/2021  15323.95020  15384.54981  15272.50000  15337.84961   \n",
       "550  5/28/2021  15421.20020  15469.65039  15394.75000  15435.65039   \n",
       "\n",
       "       Adj Close    Volume  \n",
       "0    10863.50000  308500.0  \n",
       "1    10987.45020  373200.0  \n",
       "2    11053.00000  372600.0  \n",
       "3    11058.20020  321200.0  \n",
       "4    11035.40039  326600.0  \n",
       "..           ...       ...  \n",
       "546  15197.70020  579800.0  \n",
       "547  15208.45020  441500.0  \n",
       "548  15301.45020  384000.0  \n",
       "549  15337.84961       0.0  \n",
       "550  15435.65039  468100.0  \n",
       "\n",
       "[551 rows x 7 columns]"
      ]
     },
     "execution_count": 307,
     "metadata": {},
     "output_type": "execute_result"
    }
   ],
   "source": [
    "nifty_data"
   ]
  },
  {
   "cell_type": "code",
   "execution_count": 308,
   "metadata": {},
   "outputs": [
    {
     "data": {
      "image/png": "[encoded data removed]",
      "text/plain": [
       "<Figure size 432x288 with 1 Axes>"
      ]
     },
     "metadata": {
      "needs_background": "light"
     },
     "output_type": "display_data"
    }
   ],
   "source": [
    "Nifty_date = nifty_data[\"Date\"]\n",
    "Closing = nifty_data[\"Close\"]\n",
    "\n",
    "\n",
    "# New Cases\n",
    "plt.plot(Nifty_date, Closing, color = 'green', label = \"Nifty Data\")\n",
    "plt.xlabel(\"Date\")\n",
    "plt.ylabel(\"Nifty Data\")\n",
    "plt.title(\"Nifty Data\")\n",
    "\n",
    "\n",
    "plt.show()\n"
   ]
  },
  {
   "cell_type": "code",
   "execution_count": 309,
   "metadata": {},
   "outputs": [
    {
     "data": {
      "image/png": "[encoded data removed]",
      "text/plain": [
       "<Figure size 432x288 with 1 Axes>"
      ]
     },
     "metadata": {
      "needs_background": "light"
     },
     "output_type": "display_data"
    }
   ],
   "source": [
    "Ndate = data_india[\"Date_reported\"]\n",
    "New_cases = data_india[\"New_cases\"]\n",
    "New_deaths = data_india[\"New_deaths\"]\n",
    "\n",
    "\n",
    "# New Cases\n",
    "plt.plot(Ndate, New_cases, color = 'r', label = \"New Cases\")\n",
    "plt.xlabel(\"Date\")\n",
    "plt.ylabel(\"New Cases\")\n",
    "plt.title(\"New Cases\")\n",
    "\n",
    "plt.show()\n"
   ]
  },
  {
   "cell_type": "code",
   "execution_count": 310,
   "metadata": {},
   "outputs": [],
   "source": [
    "# Concatinating Nifty and Corona Data \n",
    "nifty_price = []\n",
    "cases = []\n",
    "deaths = []\n",
    "date_n = []\n",
    "for j in range(len(nifty_data)):\n",
    "    for i in range(len(data_india)):\n",
    "        if (data_india[\"Date_reported\"].values[i] == nifty_data[\"Date\"].values[j]):\n",
    "            date_n.append(data_india[\"Date_reported\"].values[i])\n",
    "            cases.append(data_india[\"New_cases\"].values[i])\n",
    "            deaths.append(data_india[\"New_deaths\"].values[i])\n",
    "\n",
    "\n"
   ]
  },
  {
   "cell_type": "code",
   "execution_count": 311,
   "metadata": {},
   "outputs": [],
   "source": [
    "for i in range(len(nifty_data)):\n",
    "    if nifty_data[\"Date\"].values[i]  in date_n:\n",
    "        nifty_price.append(nifty_data[\"Close\"].values[i])"
   ]
  },
  {
   "cell_type": "code",
   "execution_count": 312,
   "metadata": {},
   "outputs": [],
   "source": [
    "final_data = pd.DataFrame(list(zip(date_n,cases,deaths,nifty_price )),columns =['date_n','cases','deaths','nifty_price'])"
   ]
  },
  {
   "cell_type": "code",
   "execution_count": 313,
   "metadata": {},
   "outputs": [
    {
     "data": {
      "text/html": [
       "<div>\n",
       "<style scoped>\n",
       "    .dataframe tbody tr th:only-of-type {\n",
       "        vertical-align: middle;\n",
       "    }\n",
       "\n",
       "    .dataframe tbody tr th {\n",
       "        vertical-align: top;\n",
       "    }\n",
       "\n",
       "    .dataframe thead th {\n",
       "        text-align: right;\n",
       "    }\n",
       "</style>\n",
       "<table border=\"1\" class=\"dataframe\">\n",
       "  <thead>\n",
       "    <tr style=\"text-align: right;\">\n",
       "      <th></th>\n",
       "      <th>date_n</th>\n",
       "      <th>cases</th>\n",
       "      <th>deaths</th>\n",
       "      <th>nifty_price</th>\n",
       "    </tr>\n",
       "  </thead>\n",
       "  <tbody>\n",
       "    <tr>\n",
       "      <td>0</td>\n",
       "      <td>1/3/2020</td>\n",
       "      <td>0</td>\n",
       "      <td>0</td>\n",
       "      <td>12226.65039</td>\n",
       "    </tr>\n",
       "    <tr>\n",
       "      <td>1</td>\n",
       "      <td>1/6/2020</td>\n",
       "      <td>0</td>\n",
       "      <td>0</td>\n",
       "      <td>11993.04981</td>\n",
       "    </tr>\n",
       "    <tr>\n",
       "      <td>2</td>\n",
       "      <td>1/7/2020</td>\n",
       "      <td>0</td>\n",
       "      <td>0</td>\n",
       "      <td>12052.95020</td>\n",
       "    </tr>\n",
       "    <tr>\n",
       "      <td>3</td>\n",
       "      <td>1/8/2020</td>\n",
       "      <td>0</td>\n",
       "      <td>0</td>\n",
       "      <td>12025.34961</td>\n",
       "    </tr>\n",
       "    <tr>\n",
       "      <td>4</td>\n",
       "      <td>1/9/2020</td>\n",
       "      <td>0</td>\n",
       "      <td>0</td>\n",
       "      <td>12215.90039</td>\n",
       "    </tr>\n",
       "    <tr>\n",
       "      <td>...</td>\n",
       "      <td>...</td>\n",
       "      <td>...</td>\n",
       "      <td>...</td>\n",
       "      <td>...</td>\n",
       "    </tr>\n",
       "    <tr>\n",
       "      <td>343</td>\n",
       "      <td>5/24/2021</td>\n",
       "      <td>222315</td>\n",
       "      <td>4454</td>\n",
       "      <td>15197.70020</td>\n",
       "    </tr>\n",
       "    <tr>\n",
       "      <td>344</td>\n",
       "      <td>5/25/2021</td>\n",
       "      <td>196427</td>\n",
       "      <td>3511</td>\n",
       "      <td>15208.45020</td>\n",
       "    </tr>\n",
       "    <tr>\n",
       "      <td>345</td>\n",
       "      <td>5/26/2021</td>\n",
       "      <td>208921</td>\n",
       "      <td>4157</td>\n",
       "      <td>15301.45020</td>\n",
       "    </tr>\n",
       "    <tr>\n",
       "      <td>346</td>\n",
       "      <td>5/27/2021</td>\n",
       "      <td>211298</td>\n",
       "      <td>3847</td>\n",
       "      <td>15337.84961</td>\n",
       "    </tr>\n",
       "    <tr>\n",
       "      <td>347</td>\n",
       "      <td>5/28/2021</td>\n",
       "      <td>186364</td>\n",
       "      <td>3660</td>\n",
       "      <td>15435.65039</td>\n",
       "    </tr>\n",
       "  </tbody>\n",
       "</table>\n",
       "<p>348 rows × 4 columns</p>\n",
       "</div>"
      ],
      "text/plain": [
       "        date_n   cases  deaths  nifty_price\n",
       "0     1/3/2020       0       0  12226.65039\n",
       "1     1/6/2020       0       0  11993.04981\n",
       "2     1/7/2020       0       0  12052.95020\n",
       "3     1/8/2020       0       0  12025.34961\n",
       "4     1/9/2020       0       0  12215.90039\n",
       "..         ...     ...     ...          ...\n",
       "343  5/24/2021  222315    4454  15197.70020\n",
       "344  5/25/2021  196427    3511  15208.45020\n",
       "345  5/26/2021  208921    4157  15301.45020\n",
       "346  5/27/2021  211298    3847  15337.84961\n",
       "347  5/28/2021  186364    3660  15435.65039\n",
       "\n",
       "[348 rows x 4 columns]"
      ]
     },
     "execution_count": 313,
     "metadata": {},
     "output_type": "execute_result"
    }
   ],
   "source": [
    "final_data"
   ]
  },
  {
   "cell_type": "code",
   "execution_count": 314,
   "metadata": {},
   "outputs": [
    {
     "name": "stdout",
     "output_type": "stream",
     "text": [
      "                cases    deaths  nifty_price\n",
      "cases        1.000000  0.920187     0.427422\n",
      "deaths       0.920187  1.000000     0.353291\n",
      "nifty_price  0.427422  0.353291     1.000000\n"
     ]
    }
   ],
   "source": [
    "corrMatrix = final_data.corr()\n",
    "print (corrMatrix)\n"
   ]
  },
  {
   "cell_type": "code",
   "execution_count": 315,
   "metadata": {},
   "outputs": [],
   "source": [
    "# Calculating the number of deaths with relation to New Cases \n",
    "X = final_data[['cases']]\n",
    "y = final_data[['nifty_price']]\n",
    "\n",
    "from sklearn.model_selection import train_test_split\n",
    "X_train, X_test, y_train, y_test = train_test_split(X, y, test_size = 1/3, random_state = 0)\n"
   ]
  },
  {
   "cell_type": "code",
   "execution_count": 316,
   "metadata": {},
   "outputs": [
    {
     "name": "stdout",
     "output_type": "stream",
     "text": [
      "Value of coefficients (x) :  0.010031027425372587\n",
      "Value of Intercept(c) :  11639.363845851436\n"
     ]
    }
   ],
   "source": [
    "# Fitting Simple Linear Regression to the Training set\n",
    "from sklearn.linear_model import LinearRegression\n",
    "regressor = LinearRegression()\n",
    "regressor.fit(X_train, y_train)\n",
    "\n",
    "# Predicting the Test set results (y = mx +c)\n",
    "y_pred = regressor.predict(X_test)\n",
    "print(\"Value of coefficients (x) : \",regressor.coef_[0][0])\n",
    "print(\"Value of Intercept(c) : \",regressor.intercept_[0])"
   ]
  },
  {
   "cell_type": "code",
   "execution_count": 317,
   "metadata": {},
   "outputs": [],
   "source": [
    "y_pred_new = regressor.predict(X)"
   ]
  },
  {
   "cell_type": "code",
   "execution_count": 318,
   "metadata": {},
   "outputs": [
    {
     "data": {
      "image/png": "[encoded data removed]",
      "text/plain": [
       "<Figure size 432x288 with 1 Axes>"
      ]
     },
     "metadata": {
      "needs_background": "light"
     },
     "output_type": "display_data"
    }
   ],
   "source": [
    "Ndate = final_data[\"date_n\"]\n",
    "Org_nifty = final_data[\"nifty_price\"]\n",
    "New_deaths = y_pred_new\n",
    "\n",
    "\n",
    "# New Cases\n",
    "plt.plot(Ndate, Org_nifty, color='r',label= \"Original Nifty Price\")\n",
    "plt.plot(Ndate, New_deaths, color='g', label='Calculated Nifty Price')\n",
    "  \n",
    "# Naming the x-axis, y-axis and the whole graph\n",
    "plt.ylabel(\"Original Nifty Price V/s Calculated Nifty Price\")\n",
    "plt.xlabel(\"Date\")\n",
    "plt.title(\"Original V/s Calculated Nifty Price\")\n",
    "  \n",
    "# Adding legend, which helps us recognize the curve according to it's color\n",
    "plt.legend()\n",
    "  \n",
    "# To load the display window\n",
    "plt.show()\n",
    "\n"
   ]
  },
  {
   "cell_type": "code",
   "execution_count": null,
   "metadata": {},
   "outputs": [],
   "source": []
  },
  {
   "cell_type": "code",
   "execution_count": null,
   "metadata": {},
   "outputs": [],
   "source": []
  }
 ],
 "metadata": {
  "kernelspec": {
   "display_name": "Python 3",
   "language": "python",
   "name": "python3"
  },
  "language_info": {
   "codemirror_mode": {
    "name": "ipython",
    "version": 3
   },
   "file_extension": ".py",
   "mimetype": "text/x-python",
   "name": "python",
   "nbconvert_exporter": "python",
   "pygments_lexer": "ipython3",
   "version": "3.7.3"
  }
 },
 "nbformat": 4,
 "nbformat_minor": 2
}
