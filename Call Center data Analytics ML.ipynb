{
 "cells": [
  {
   "cell_type": "code",
   "execution_count": null,
   "metadata": {},
   "outputs": [],
   "source": [
    "import textwrap\n",
    "import pyodbc\n",
    "import pandas as pd\n",
    "#pd.set_option('display.max_rows', 500)\n",
    "pd.set_option('display.max_columns', 500)\n",
    "#for drivers in pyodbc.drivers():\n",
    "#    print(drivers)\n",
    "\n",
    "server = 'cndthrsfamalldevsdw101.database.windows.net'\n",
    "database = 'asudevsdw'\n",
    "username = 'cndtctiadmin'\n",
    "password = 'D3MSxzB=!L5t4&*2-VXT'\n",
    "\n",
    "\n",
    "\n",
    "cnxn = pyodbc.connect('DRIVER={ODBC Driver 17 for SQL Server};SERVER='+server+';DATABASE='+database+';UID='+username+';PWD='+ password)\n",
    "cursor = cnxn.cursor()\n",
    "\n",
    "query = \"SELECT * FROM call_data\"\n",
    "df = pd.read_sql(query, cnxn)\n",
    "df.to_csv(\"output1.csv\")\n",
    "print(\"done\")\n",
    "\n"
   ]
  },
  {
   "cell_type": "code",
   "execution_count": null,
   "metadata": {},
   "outputs": [],
   "source": [
    "import pandas as pd\n",
    "import numpy as np\n",
    "import datetime\n",
    "import matplotlib.pyplot as plt\n",
    "pd.set_option('display.max_columns', 500)\n",
    "df = pd.read_csv(\"output1.csv\")\n",
    "data_start = df[['date','calls_answered','wait_time','talk_time_after_call_work','hold_time','abandoned_calls','HW','GEN','OE']]\n",
    "data = data_start.groupby(['date']).sum()\n",
    "data.index.name='date'\n",
    "date1 =[]\n",
    "for i in data.index:\n",
    "    date1.append(i)\n",
    "\n",
    "data['date1'] = date1\n",
    "data['month'] = pd.DatetimeIndex(data['date1']).month\n",
    "data['week'] = pd.DatetimeIndex(data['date1']).week\n",
    "data['day'] = pd.DatetimeIndex(data['date1']).dayofweek\n",
    "data['quarter'] = pd.DatetimeIndex(data['date1']).quarter\n",
    "\n",
    "\n",
    "import pandas as pd\n",
    "import numpy as np\n",
    "import matplotlib.pyplot as plt\n",
    "import pandas as pd\n",
    "from sklearn.tree import DecisionTreeClassifier # Import Decision Tree Class\n",
    "from sklearn.model_selection import train_test_split # Import train_test_spl\n",
    "from sklearn import metrics\n",
    "data"
   ]
  },
  {
   "cell_type": "code",
   "execution_count": null,
   "metadata": {},
   "outputs": [],
   "source": [
    "corr = data.corr()\n",
    "corr.style.background_gradient(cmap='coolwarm')"
   ]
  },
  {
   "cell_type": "code",
   "execution_count": null,
   "metadata": {},
   "outputs": [],
   "source": [
    "import pandas as pd\n",
    "from sklearn.tree import DecisionTreeClassifier # Import Decision Tree Classifier\n",
    "from sklearn.model_selection import train_test_split # Import train_test_split function\n",
    "from sklearn import metrics #Import scikit-learn metrics module for accuracy calculation\n",
    "\n",
    "\n",
    "test_case = pd.read_csv('case.csv')\n",
    "###########################################################Calls answered\n",
    "X = data[['month','week','day']]\n",
    "y = data[['calls_answered']]\n",
    "\n",
    "X_train, X_test, y_train, y_test = train_test_split(X, y, test_size=0.3, random_state=1) # 70% training and 30% test\n",
    "clf = DecisionTreeClassifier()\n",
    "\n",
    "# Train Decision Tree Classifer\n",
    "clf = clf.fit(X_train,y_train)\n",
    "\n",
    "#Predict the response for test dataset\n",
    "\n",
    "#test_case = test_case.drop(labels=[\"date\"], axis=1)\n",
    "\n",
    "X = test_case[['month','week','day']]\n",
    "y_predict_calls_answered = clf.predict(X)\n",
    "y_predict_calls_answered"
   ]
  },
  {
   "cell_type": "code",
   "execution_count": null,
   "metadata": {},
   "outputs": [],
   "source": [
    "########################################################### Wait time\n",
    "X = data[['month','week','day']]\n",
    "y = data[['wait_time']]\n",
    "\n",
    "X_train, X_test, y_train, y_test = train_test_split(X, y, test_size=0.3, random_state=1) # 70% training and 30% test\n",
    "clf = DecisionTreeClassifier()\n",
    "\n",
    "# Train Decision Tree Classifer\n",
    "clf = clf.fit(X_train,y_train)\n",
    "\n",
    "#Predict the response for test dataset\n",
    "\n",
    "#test_case = test_case.drop(labels=[\"date\"], axis=1)\n",
    "\n",
    "X = test_case[['month','week','day']]\n",
    "y_predict_wait_time = clf.predict(X)\n",
    "y_predict_wait_time"
   ]
  },
  {
   "cell_type": "code",
   "execution_count": null,
   "metadata": {},
   "outputs": [],
   "source": [
    "########################################################### talk_time_after_call_work\n",
    "X = data[['month','week','day']]\n",
    "y = data[['talk_time_after_call_work']]\n",
    "\n",
    "X_train, X_test, y_train, y_test = train_test_split(X, y, test_size=0.3, random_state=1) # 70% training and 30% test\n",
    "clf = DecisionTreeClassifier()\n",
    "\n",
    "# Train Decision Tree Classifer\n",
    "clf = clf.fit(X_train,y_train)\n",
    "\n",
    "#Predict the response for test dataset\n",
    "\n",
    "#test_case = test_case.drop(labels=[\"date\"], axis=1)\n",
    "\n",
    "X = test_case[['month','week','day']]\n",
    "y_predict_talk_time_after_call_work = clf.predict(X)\n",
    "y_predict_talk_time_after_call_work"
   ]
  },
  {
   "cell_type": "code",
   "execution_count": null,
   "metadata": {},
   "outputs": [],
   "source": [
    "########################################################### hold_time\n",
    "X = data[['month','week','day']]\n",
    "y = data[['hold_time']]\n",
    "\n",
    "X_train, X_test, y_train, y_test = train_test_split(X, y, test_size=0.3, random_state=1) # 70% training and 30% test\n",
    "clf = DecisionTreeClassifier()\n",
    "\n",
    "# Train Decision Tree Classifer\n",
    "clf = clf.fit(X_train,y_train)\n",
    "\n",
    "#Predict the response for test dataset\n",
    "\n",
    "#test_case = test_case.drop(labels=[\"date\"], axis=1)\n",
    "\n",
    "X = test_case[['month','week','day']]\n",
    "y_predict_hold_time = clf.predict(X)\n",
    "y_predict_hold_time"
   ]
  },
  {
   "cell_type": "code",
   "execution_count": null,
   "metadata": {},
   "outputs": [],
   "source": [
    "########################################################### abandoned_calls\n",
    "X = data[['month','week','day']]\n",
    "y = data[['abandoned_calls']]\n",
    "\n",
    "X_train, X_test, y_train, y_test = train_test_split(X, y, test_size=0.3, random_state=1) # 70% training and 30% test\n",
    "clf = DecisionTreeClassifier()\n",
    "\n",
    "# Train Decision Tree Classifer\n",
    "clf = clf.fit(X_train,y_train)\n",
    "\n",
    "#Predict the response for test dataset\n",
    "\n",
    "#test_case = test_case.drop(labels=[\"date\"], axis=1)\n",
    "\n",
    "X = test_case[['month','week','day']]\n",
    "y_predict_abandoned_calls = clf.predict(X)\n",
    "y_predict_abandoned_calls"
   ]
  },
  {
   "cell_type": "code",
   "execution_count": null,
   "metadata": {},
   "outputs": [],
   "source": [
    "########################################################### HW\n",
    "X = data[['month','week','day']]\n",
    "y = data[['HW']]\n",
    "\n",
    "X_train, X_test, y_train, y_test = train_test_split(X, y, test_size=0.3, random_state=1) # 70% training and 30% test\n",
    "clf = DecisionTreeClassifier()\n",
    "\n",
    "# Train Decision Tree Classifer\n",
    "clf = clf.fit(X_train,y_train)\n",
    "\n",
    "#Predict the response for test dataset\n",
    "\n",
    "#test_case = test_case.drop(labels=[\"date\"], axis=1)\n",
    "\n",
    "X = test_case[['month','week','day']]\n",
    "y_predict_HW = clf.predict(X)\n",
    "y_predict_HW"
   ]
  },
  {
   "cell_type": "code",
   "execution_count": null,
   "metadata": {},
   "outputs": [],
   "source": [
    "########################################################### GEN\n",
    "X = data[['month','week','day']]\n",
    "y = data[['GEN']]\n",
    "\n",
    "X_train, X_test, y_train, y_test = train_test_split(X, y, test_size=0.3, random_state=1) # 70% training and 30% test\n",
    "clf = DecisionTreeClassifier()\n",
    "\n",
    "# Train Decision Tree Classifer\n",
    "clf = clf.fit(X_train,y_train)\n",
    "\n",
    "#Predict the response for test dataset\n",
    "\n",
    "#test_case = test_case.drop(labels=[\"date\"], axis=1)\n",
    "\n",
    "X = test_case[['month','week','day']]\n",
    "y_predict_GEN = clf.predict(X)\n",
    "y_predict_GEN"
   ]
  },
  {
   "cell_type": "code",
   "execution_count": null,
   "metadata": {},
   "outputs": [],
   "source": [
    "########################################################### OE\n",
    "X = data[['month','week','day']]\n",
    "y = data[['OE']]\n",
    "\n",
    "X_train, X_test, y_train, y_test = train_test_split(X, y, test_size=0.3, random_state=1) # 70% training and 30% test\n",
    "clf = DecisionTreeClassifier()\n",
    "\n",
    "# Train Decision Tree Classifer\n",
    "clf = clf.fit(X_train,y_train)\n",
    "\n",
    "#Predict the response for test dataset\n",
    "\n",
    "#test_case = test_case.drop(labels=[\"date\"], axis=1)\n",
    "\n",
    "X = test_case[['month','week','day']]\n",
    "y_predict_OE = clf.predict(X)\n",
    "y_predict_OE"
   ]
  },
  {
   "cell_type": "code",
   "execution_count": null,
   "metadata": {},
   "outputs": [],
   "source": [
    "y_predict_received_calls = []\n",
    "for i in range (len(test_case)):\n",
    "    y_predict_received_calls.append(y_predict_calls_answered[i]-y_predict_abandoned_calls[i])"
   ]
  },
  {
   "cell_type": "code",
   "execution_count": null,
   "metadata": {},
   "outputs": [],
   "source": [
    "test_case['calls_answered'] = y_predict_calls_answered\n",
    "test_case['abandoned_calls'] = y_predict_abandoned_calls\n",
    "test_case['received_calls'] = y_predict_received_calls\n",
    "test_case['wait_time'] = y_predict_wait_time\n",
    "test_case['talk_time_after_call_work'] = y_predict_talk_time_after_call_work\n",
    "test_case['hold_time'] = y_predict_hold_time\n",
    "test_case['HW'] = y_predict_HW\n",
    "test_case['GEN'] = y_predict_GEN\n",
    "test_case['OE'] = y_predict_OE"
   ]
  },
  {
   "cell_type": "code",
   "execution_count": null,
   "metadata": {},
   "outputs": [],
   "source": [
    "test_case"
   ]
  },
  {
   "cell_type": "code",
   "execution_count": null,
   "metadata": {},
   "outputs": [],
   "source": [
    "test_case.to_csv('case.csv',index=False)"
   ]
  },
  {
   "cell_type": "code",
   "execution_count": null,
   "metadata": {},
   "outputs": [],
   "source": [
    "crsr = cnxn.cursor()\n",
    "crsr.fast_executemany = True\n",
    "crsr.executemany(\n",
    "    \"INSERT INTO test_data (date, day, week,month,calls_answered,wait_time,talk_time_after_call_work,hold_time,HW,GEN,OE,abandoned_calls,received_calls) VALUES (?, ?,?, ?,?, ?,?, ?,?, ?,?, ?,?)\",\n",
    "    list(df.itertuples(index=False, name=None))\n",
    ")\n",
    "crsr.commit()\n",
    "print(\"done\")"
   ]
  },
  {
   "cell_type": "code",
   "execution_count": null,
   "metadata": {},
   "outputs": [],
   "source": []
  }
 ],
 "metadata": {
  "kernelspec": {
   "display_name": "Python 3",
   "language": "python",
   "name": "python3"
  }
 },
 "nbformat": 4,
 "nbformat_minor": 2
}
