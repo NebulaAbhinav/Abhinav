{
 "cells": [
  {
   "cell_type": "code",
   "execution_count": 15,
   "metadata": {},
   "outputs": [],
   "source": [
    "import requests \n",
    "from bs4 import BeautifulSoup\n",
    "import numpy as np \n",
    "import pandas as pd\n",
    "pd.set_option('display.max_rows', 100)"
   ]
  },
  {
   "cell_type": "code",
   "execution_count": 16,
   "metadata": {},
   "outputs": [
    {
     "name": "stdout",
     "output_type": "stream",
     "text": [
      "<class 'bs4.element.ResultSet'>\n"
     ]
    }
   ],
   "source": [
    "url = 'https://www.thestatszone.com/football/a-list-of-lionel-messis-international-goals-224168'\n",
    "\n",
    "\n",
    "response = requests.get(url)\n",
    "\n",
    "response.status_code\n",
    "\n",
    "#response.content\n",
    "\n",
    "soup = BeautifulSoup(response.content, 'html.parser')\n",
    "\n",
    "stat_table =soup.find_all('table')\n",
    "\n",
    "print(type(stat_table))\n",
    "stat_table =stat_table[0]\n"
   ]
  },
  {
   "cell_type": "code",
   "execution_count": 17,
   "metadata": {},
   "outputs": [
    {
     "name": "stdout",
     "output_type": "stream",
     "text": [
      "<td height=\"36\" width=\"128\"><strong>GOAL NUMBER</strong></td>\n",
      "\n",
      "\n",
      "<td width=\"98\"><strong>DATE</strong></td>\n",
      "\n",
      "\n",
      "<td width=\"255\"><strong>COMPETITION</strong></td>\n",
      "\n",
      "\n",
      "<td width=\"220\"><strong>OPPONENT</strong></td>\n",
      "\n",
      "\n"
     ]
    }
   ],
   "source": [
    "#Know how many rows in column_name\n",
    "countcol = 0 \n",
    "for row in stat_table.find('tr'):\n",
    "    countcol +=1\n",
    "    print(row)\n",
    "    \n",
    "countcol = int(countcol/2)\n"
   ]
  },
  {
   "cell_type": "code",
   "execution_count": 18,
   "metadata": {},
   "outputs": [],
   "source": [
    "#Put data in table \n",
    "table1 = [] \n",
    "for row in stat_table.find_all('tr'):\n",
    "    for cell in row.find_all('td'):\n",
    "        table1.append(cell.text)\n",
    "\n",
    "n = len(table1)\n",
    "r = int(n/countcol)\n"
   ]
  },
  {
   "cell_type": "code",
   "execution_count": 19,
   "metadata": {},
   "outputs": [],
   "source": [
    "#Convert 1D to 2D array\n",
    "table1 = np.array(table1)\n",
    "t1 = np.reshape(table1,(r,countcol))\n"
   ]
  },
  {
   "cell_type": "code",
   "execution_count": 20,
   "metadata": {},
   "outputs": [
    {
     "name": "stdout",
     "output_type": "stream",
     "text": [
      "              0           1                     2                       3\n",
      "0   GOAL NUMBER        DATE           COMPETITION                OPPONENT\n",
      "1             1  01/03/2006              Friendly                 Croatia\n",
      "2             2  16/06/2006             World Cup   Serbia and Montenegro\n",
      "3             3  05/06/2007              Friendly                 Algeria\n",
      "4             4  05/06/2007              Friendly                 Algeria\n",
      "5             5  07/08/2007          Copa America                    Peru\n",
      "6             6  07/11/2007          Copa America                  Mexico\n",
      "7             7  16/10/2007  World Cup Qualifying               Venezuela\n",
      "8             8  20/11/2007  World Cup Qualifying                Colombia\n",
      "9             9  06/04/2008              Friendly                  Mexico\n",
      "10           10  10/11/2008  World Cup Qualifying                 Uruguay\n",
      "11           11  11/02/2009              Friendly                  France\n",
      "12           12  28/03/2009  World Cup Qualifying               Venezuela\n",
      "13           13  14/11/2009              Friendly                   Spain\n",
      "14           14  09/07/2010              Friendly                   Spain\n",
      "15           15  17/10/2010              Friendly                  Brazil\n",
      "16           16  02/09/2011              Friendly                Portugal\n",
      "17           17  20/06/2011              Friendly                 Albania\n",
      "18           18  07/10/2011  World Cup Qualifying                   Chile\n",
      "19           19  15/11/2011  World Cup Qualifying                Colombia\n",
      "20           20  29/02/2012              Friendly             Switzerland\n",
      "21           21  29/02/2012              Friendly             Switzerland\n",
      "22           22  29/02/2012              Friendly             Switzerland\n",
      "23           23  06/02/2012  World Cup Qualifying                 Ecuador\n",
      "24           24  09/06/2012              Friendly                  Brazil\n",
      "25           25  09/06/2012              Friendly                  Brazil\n",
      "26           26  09/06/2012              Friendly                  Brazil\n",
      "27           27  15/08/2012              Friendly                 Germany\n",
      "28           28  09/07/2012  World Cup Qualifying                Paraguay\n",
      "29           29  10/12/2012  World Cup Qualifying                 Uruguay\n",
      "30           30  10/12/2012  World Cup Qualifying                 Uruguay\n",
      "31           31  16/10/2012  World Cup Qualifying                   Chile\n",
      "32           32   22/3/2013  World Cup Qualifying               Venezuela\n",
      "33           33  14/06/2013              Friendly               Guatemala\n",
      "34           34  14/06/2013              Friendly               Guatemala\n",
      "35           35  14/06/2013              Friendly               Guatemala\n",
      "36           36  09/10/2013  World Cup Qualifying                Paraguay\n",
      "37           37  09/10/2013  World Cup Qualifying                Paraguay\n",
      "38           38  06/07/2014              Friendly                Slovenia\n",
      "39           39  15/06/2014            World Cup   Bosnia and Herzegovina\n",
      "40           40  21/06/2014             World Cup                    Iran\n",
      "41           41  25/06/2014             World Cup                 Nigeria\n",
      "42           42  25/06/2014             World Cup                 Nigeria\n",
      "43           43  14/10/2014              Friendly               Hong Kong\n",
      "44           44  14/10/2014              Friendly               Hong Kong\n",
      "45           45  11/12/2014              Friendly                 Croatia\n",
      "46           46  13/06/2015          Copa America                Paraguay\n",
      "47           47  04/09/2015              Friendly                 Bolivia\n",
      "48           48  04/09/2015              Friendly                 Bolivia\n",
      "49           49  09/08/2015              Friendly                  Mexico\n",
      "50           50  29/03/2016  World Cup Qualifying                 Bolivia\n",
      "51           51  06/10/2016          Copa America                  Panama\n",
      "52           52  06/10/2016          Copa America                  Panama\n",
      "53           53  06/10/2016          Copa America                  Panama\n",
      "54           54  18/06/2016          Copa America               Venezuela\n",
      "55           55  21/06/2016          Copa America           United States\n",
      "56           56  09/01/2016  World Cup Qualifying                 Uruguay\n",
      "57           57  15/11/2016  World Cup Qualifying                Colombia\n",
      "58           58   23/3/2017  World Cup Qualifying                   Chile\n",
      "59           59  10/10/2017  World Cup Qualifying                 Ecuador\n",
      "60           60  10/10/2017  World Cup Qualifying                 Ecuador\n",
      "61           61  10/10/2017  World Cup Qualifying                 Ecuador\n",
      "62           62  29/05/2018              Friendly                   Haiti\n",
      "63           63  29/05/2018              Friendly                   Haiti\n",
      "64           64  29/05/2018              Friendly                   Haiti\n",
      "65           65  26/06/2018             World Cup                 Nigeria\n",
      "66           66  07/06/2019              Friendly               Nicaragua\n",
      "67           67  07/06/2019              Friendly               Nicaragua\n",
      "68           68  19/06/2019          Copa America                Paraguay\n"
     ]
    }
   ],
   "source": [
    "# table in DataFrame \n",
    "t1 = pd.DataFrame(t1)\n",
    "print(t1)"
   ]
  },
  {
   "cell_type": "code",
   "execution_count": null,
   "metadata": {},
   "outputs": [],
   "source": []
  }
 ],
 "metadata": {
  "kernelspec": {
   "display_name": "Python 3",
   "language": "python",
   "name": "python3"
  },
  "language_info": {
   "codemirror_mode": {
    "name": "ipython",
    "version": 3
   },
   "file_extension": ".py",
   "mimetype": "text/x-python",
   "name": "python",
   "nbconvert_exporter": "python",
   "pygments_lexer": "ipython3",
   "version": "3.7.3"
  }
 },
 "nbformat": 4,
 "nbformat_minor": 2
}
