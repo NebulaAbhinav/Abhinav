{
 "cells": [
  {
   "cell_type": "code",
   "execution_count": 2,
   "metadata": {},
   "outputs": [],
   "source": [
    "from bs4 import BeautifulSoup\n",
    "import requests\n",
    "import pandas as pd\n",
    "import numpy as np\n",
    "pd.set_option(\"display.max_rows\",1000)\n",
    "url = \"https://www.fctables.com/fifa-rankings/\" #url\n",
    "response = requests.get(url)\n",
    "soup = BeautifulSoup(response.text,'html.parser')\n",
    "table1 = soup.find(class_= \"table fifa-ranking no_click table-condensed\")#######################change class other than jquery\n"
   ]
  },
  {
   "cell_type": "code",
   "execution_count": 3,
   "metadata": {},
   "outputs": [
    {
     "name": "stdout",
     "output_type": "stream",
     "text": [
      "['M', 'TEAM', 'CHANGE', 'POINTS', 'LAST', 'INFO']\n",
      "1242\n",
      "6\n"
     ]
    }
   ],
   "source": [
    "#Find all the rows\n",
    "rowcell = []#all rows\n",
    "for row in table1.find_all('tr'):\n",
    "    for cell in table1.find_all('td'):\n",
    "        c = cell.text.replace('\\n','')\n",
    "        rowcell.append(c)\n",
    "    break\n",
    "\n",
    "\n",
    "\n",
    "#find all column names\n",
    "tcol = [\"M\",\"TEAM\",\"CHANGE\",\"POINTS\",\"LAST\",\"INFO\"]#column names \n",
    "\n",
    "\n",
    "tcol = tcol[:6] ###########################change according to the number of columns \n",
    "print(tcol)\n",
    "\n",
    "#remove row cells\n",
    "st = \"adsbygoogle\"\n",
    "rindex =[]\n",
    "for i in range(len(rowcell)):\n",
    "    if st in rowcell[i]:\n",
    "        rindex.append(i)\n",
    "        \n",
    "rowcell = np.delete(rowcell, rindex)\n",
    "print(len(rowcell))\n",
    "        \n",
    "#make rowcell 2DD\n",
    "rowcell = np.array(rowcell)\n",
    "r = int(len(rowcell)/len(tcol))\n",
    "\n",
    "c = int(len(tcol))\n",
    "print(c)\n",
    "rowcell = np.reshape(rowcell,(r,c))\n",
    "\n"
   ]
  },
  {
   "cell_type": "code",
   "execution_count": 4,
   "metadata": {},
   "outputs": [],
   "source": [
    "\n",
    "#Making dataframe\n",
    "table= pd.DataFrame(rowcell, columns = tcol)"
   ]
  },
  {
   "cell_type": "code",
   "execution_count": null,
   "metadata": {},
   "outputs": [],
   "source": []
  },
  {
   "cell_type": "code",
   "execution_count": null,
   "metadata": {},
   "outputs": [],
   "source": []
  }
 ],
 "metadata": {
  "kernelspec": {
   "display_name": "Python 3",
   "language": "python",
   "name": "python3"
  },
  "language_info": {
   "codemirror_mode": {
    "name": "ipython",
    "version": 3
   },
   "file_extension": ".py",
   "mimetype": "text/x-python",
   "name": "python",
   "nbconvert_exporter": "python",
   "pygments_lexer": "ipython3",
   "version": "3.7.4"
  }
 },
 "nbformat": 4,
 "nbformat_minor": 2
}
